{
 "cells": [
  {
   "cell_type": "markdown",
   "id": "85126a95",
   "metadata": {},
   "source": [
    "# KNN Modeli\n",
    "\n",
    "Şeker hastalığı veri setiyle tahmin"
   ]
  },
  {
   "cell_type": "code",
   "execution_count": 2,
   "id": "b1a532e7",
   "metadata": {},
   "outputs": [
    {
     "data": {
      "text/html": [
       "<div>\n",
       "<style scoped>\n",
       "    .dataframe tbody tr th:only-of-type {\n",
       "        vertical-align: middle;\n",
       "    }\n",
       "\n",
       "    .dataframe tbody tr th {\n",
       "        vertical-align: top;\n",
       "    }\n",
       "\n",
       "    .dataframe thead th {\n",
       "        text-align: right;\n",
       "    }\n",
       "</style>\n",
       "<table border=\"1\" class=\"dataframe\">\n",
       "  <thead>\n",
       "    <tr style=\"text-align: right;\">\n",
       "      <th></th>\n",
       "      <th>Pregnancies</th>\n",
       "      <th>Glucose</th>\n",
       "      <th>BloodPressure</th>\n",
       "      <th>SkinThickness</th>\n",
       "      <th>Insulin</th>\n",
       "      <th>BMI</th>\n",
       "      <th>DiabetesPedigreeFunction</th>\n",
       "      <th>Age</th>\n",
       "      <th>Outcome</th>\n",
       "    </tr>\n",
       "  </thead>\n",
       "  <tbody>\n",
       "    <tr>\n",
       "      <th>0</th>\n",
       "      <td>6</td>\n",
       "      <td>148</td>\n",
       "      <td>72</td>\n",
       "      <td>35</td>\n",
       "      <td>0</td>\n",
       "      <td>33.6</td>\n",
       "      <td>0.627</td>\n",
       "      <td>50</td>\n",
       "      <td>1</td>\n",
       "    </tr>\n",
       "    <tr>\n",
       "      <th>1</th>\n",
       "      <td>1</td>\n",
       "      <td>85</td>\n",
       "      <td>66</td>\n",
       "      <td>29</td>\n",
       "      <td>0</td>\n",
       "      <td>26.6</td>\n",
       "      <td>0.351</td>\n",
       "      <td>31</td>\n",
       "      <td>0</td>\n",
       "    </tr>\n",
       "    <tr>\n",
       "      <th>2</th>\n",
       "      <td>8</td>\n",
       "      <td>183</td>\n",
       "      <td>64</td>\n",
       "      <td>0</td>\n",
       "      <td>0</td>\n",
       "      <td>23.3</td>\n",
       "      <td>0.672</td>\n",
       "      <td>32</td>\n",
       "      <td>1</td>\n",
       "    </tr>\n",
       "    <tr>\n",
       "      <th>3</th>\n",
       "      <td>1</td>\n",
       "      <td>89</td>\n",
       "      <td>66</td>\n",
       "      <td>23</td>\n",
       "      <td>94</td>\n",
       "      <td>28.1</td>\n",
       "      <td>0.167</td>\n",
       "      <td>21</td>\n",
       "      <td>0</td>\n",
       "    </tr>\n",
       "    <tr>\n",
       "      <th>4</th>\n",
       "      <td>0</td>\n",
       "      <td>137</td>\n",
       "      <td>40</td>\n",
       "      <td>35</td>\n",
       "      <td>168</td>\n",
       "      <td>43.1</td>\n",
       "      <td>2.288</td>\n",
       "      <td>33</td>\n",
       "      <td>1</td>\n",
       "    </tr>\n",
       "  </tbody>\n",
       "</table>\n",
       "</div>"
      ],
      "text/plain": [
       "   Pregnancies  Glucose  BloodPressure  SkinThickness  Insulin   BMI  \\\n",
       "0            6      148             72             35        0  33.6   \n",
       "1            1       85             66             29        0  26.6   \n",
       "2            8      183             64              0        0  23.3   \n",
       "3            1       89             66             23       94  28.1   \n",
       "4            0      137             40             35      168  43.1   \n",
       "\n",
       "   DiabetesPedigreeFunction  Age  Outcome  \n",
       "0                     0.627   50        1  \n",
       "1                     0.351   31        0  \n",
       "2                     0.672   32        1  \n",
       "3                     0.167   21        0  \n",
       "4                     2.288   33        1  "
      ]
     },
     "execution_count": 2,
     "metadata": {},
     "output_type": "execute_result"
    }
   ],
   "source": [
    "import pandas as pd\n",
    "import matplotlib.pyplot as plt\n",
    "import numpy as np\n",
    "from sklearn.model_selection import train_test_split\n",
    "from sklearn.neighbors import KNeighborsClassifier\n",
    "\n",
    "# Outcome = 1 ise şeker hastası, 0 ise sağlıklı\n",
    "\n",
    "data = pd.read_csv(\"diabetes.csv\")\n",
    "data.head()"
   ]
  },
  {
   "cell_type": "code",
   "execution_count": 3,
   "id": "bae57dc2",
   "metadata": {},
   "outputs": [
    {
     "data": {
      "image/png": "[encoded data removed]",
      "text/plain": [
       "<Figure size 432x288 with 1 Axes>"
      ]
     },
     "metadata": {
      "needs_background": "light"
     },
     "output_type": "display_data"
    }
   ],
   "source": [
    "hastalar = data[data.Outcome == 1]\n",
    "sagliklilar = data[data.Outcome == 0]\n",
    "\n",
    "# Glikoz değerlerine bakarak çizim yaptıracağım\n",
    "plt.scatter(sagliklilar.Age, sagliklilar.Glucose, color=\"green\", label=\"sağlıklı\", alpha=0.4)\n",
    "plt.scatter(hastalar.Age, hastalar.Glucose, color=\"red\", label=\"hasta\", alpha=0.4)\n",
    "plt.xlabel(\"Yaş\")\n",
    "plt.ylabel(\"Glikoz\")\n",
    "plt.legend()\n",
    "plt.show()"
   ]
  },
  {
   "cell_type": "code",
   "execution_count": 5,
   "id": "45ecc7e8",
   "metadata": {},
   "outputs": [
    {
     "name": "stdout",
     "output_type": "stream",
     "text": [
      "\n",
      "Before normalization:\n",
      "\n",
      "   Pregnancies  Glucose  BloodPressure  SkinThickness  Insulin   BMI  \\\n",
      "0            6      148             72             35        0  33.6   \n",
      "1            1       85             66             29        0  26.6   \n",
      "2            8      183             64              0        0  23.3   \n",
      "3            1       89             66             23       94  28.1   \n",
      "4            0      137             40             35      168  43.1   \n",
      "\n",
      "   DiabetesPedigreeFunction  Age  \n",
      "0                     0.627   50  \n",
      "1                     0.351   31  \n",
      "2                     0.672   32  \n",
      "3                     0.167   21  \n",
      "4                     2.288   33  \n",
      "\n",
      "After normalization:\n",
      "\n",
      "   Pregnancies   Glucose  BloodPressure  SkinThickness   Insulin       BMI  \\\n",
      "0     0.352941  0.743719       0.590164       0.353535  0.000000  0.500745   \n",
      "1     0.058824  0.427136       0.540984       0.292929  0.000000  0.396423   \n",
      "2     0.470588  0.919598       0.524590       0.000000  0.000000  0.347243   \n",
      "3     0.058824  0.447236       0.540984       0.232323  0.111111  0.418778   \n",
      "4     0.000000  0.688442       0.327869       0.353535  0.198582  0.642325   \n",
      "\n",
      "   DiabetesPedigreeFunction       Age  \n",
      "0                  0.234415  0.483333  \n",
      "1                  0.116567  0.166667  \n",
      "2                  0.253629  0.183333  \n",
      "3                  0.038002  0.000000  \n",
      "4                  0.943638  0.200000  \n"
     ]
    }
   ],
   "source": [
    "# Eksenleri belirliyorum\n",
    "\n",
    "y = data.Outcome.values\n",
    "x_ham_veri = data.drop([\"Outcome\"],axis=1)\n",
    "# KNN algoritması sadece x değerleri ile gruplandırma yapacağı için Outcume(Dependent Variable) çıkarıp bağımsızlar kalıyor\n",
    "\n",
    "# Normalization yaparak tüm değerleri 0-1 arasında olacak hale getiriyoruz\n",
    "x = (x_ham_veri - np.min(x_ham_veri)) / (np.max(x_ham_veri) - np.min(x_ham_veri))\n",
    "\n",
    "print(\"\\nBefore normalization:\\n\")\n",
    "print(x_ham_veri.head())\n",
    "\n",
    "print(\"\\nAfter normalization:\\n\")\n",
    "print(x.head())"
   ]
  },
  {
   "cell_type": "code",
   "execution_count": 6,
   "id": "d6811317",
   "metadata": {},
   "outputs": [
    {
     "name": "stdout",
     "output_type": "stream",
     "text": [
      "K=3 için testin doğrulama sonucu:  0.7857142857142857\n"
     ]
    }
   ],
   "source": [
    "# Train ve test datası ayırma\n",
    "# Tüm verilerin 0.2'si yani %20'si test verisi olacak (test_size=0.2)\n",
    "x_train, x_test, y_train, y_test = train_test_split(x,y,test_size=0.2,random_state=1)\n",
    "\n",
    "# KNN modeli oluşturma\n",
    "knn = KNeighborsClassifier(n_neighbors=3)  # n_neighbors = k\n",
    "knn.fit(x_train,y_train)\n",
    "prediction = knn.predict(x_test)\n",
    "print(\"K=3 için testin doğrulama sonucu: \", knn.score(x_test,y_test))"
   ]
  },
  {
   "cell_type": "code",
   "execution_count": 7,
   "id": "86f55da4",
   "metadata": {},
   "outputs": [
    {
     "name": "stdout",
     "output_type": "stream",
     "text": [
      "1   Doğruluk oranı: % 69.48051948051948\n",
      "2   Doğruluk oranı: % 74.02597402597402\n",
      "3   Doğruluk oranı: % 78.57142857142857\n",
      "4   Doğruluk oranı: % 75.97402597402598\n",
      "5   Doğruluk oranı: % 79.87012987012987\n",
      "6   Doğruluk oranı: % 79.22077922077922\n",
      "7   Doğruluk oranı: % 81.16883116883116\n",
      "8   Doğruluk oranı: % 79.22077922077922\n",
      "9   Doğruluk oranı: % 78.57142857142857\n",
      "10   Doğruluk oranı: % 79.22077922077922\n"
     ]
    }
   ],
   "source": [
    "# En iyi k değeri belirleme\n",
    "sayac = 1\n",
    "for k in range(1,11):\n",
    "    knn_yeni = KNeighborsClassifier(n_neighbors=k)\n",
    "    knn_yeni.fit(x_train,y_train)\n",
    "    print(sayac,\" \",\"Doğruluk oranı: %\", knn_yeni.score(x_test,y_test)*100)\n",
    "    sayac+=1"
   ]
  },
  {
   "cell_type": "code",
   "execution_count": null,
   "id": "713bf3b0",
   "metadata": {},
   "outputs": [],
   "source": []
  }
 ],
 "metadata": {
  "kernelspec": {
   "display_name": "Python 3 (ipykernel)",
   "language": "python",
   "name": "python3"
  },
  "language_info": {
   "codemirror_mode": {
    "name": "ipython",
    "version": 3
   },
   "file_extension": ".py",
   "mimetype": "text/x-python",
   "name": "python",
   "nbconvert_exporter": "python",
   "pygments_lexer": "ipython3",
   "version": "3.9.7"
  }
 },
 "nbformat": 4,
 "nbformat_minor": 5
}
